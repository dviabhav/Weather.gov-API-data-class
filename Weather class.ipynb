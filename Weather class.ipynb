{
 "cells": [
  {
   "cell_type": "code",
   "execution_count": 1,
   "metadata": {},
   "outputs": [],
   "source": [
    "import pandas as pd\n",
    "import urllib.request, json\n",
    "from urllib.error import HTTPError\n",
    "\n",
    "import geocoder\n",
    "\n",
    "\n",
    "from datetime import datetime as dt\n",
    "import time\n",
    "from datetime import timedelta, date\n",
    "import re\n",
    "import pytz\n",
    "import folium\n",
    "\n",
    "\n",
    "#class to house common function inherited across weather classes\n",
    "class Parent_class():\n",
    "    def return_json(self, url_api):\n",
    "        try:\n",
    "            with urllib.request.urlopen(url_api) as url:\n",
    "                data = json.load(url)\n",
    "                return data\n",
    "        except HTTPError as e:\n",
    "            if e.code == 404:\n",
    "                return {\"error\": \"404 Not Found\"}\n",
    "            else:\n",
    "                return {\"error\": f\"HTTP Error {e.code}\"}\n",
    "        except Exception as e:\n",
    "            return {\"error\": str(e)}\n",
    "\n",
    "    #coordinates in the format of [[lat, lon]...]\n",
    "    def _polygon_to_map_general(self, coordinates, zoom_start = 10, invert = False, color = 'blue', fill = True, fill_color = 'cyan', fill_opacity = 0.5  ):\n",
    "        if invert: # Flip lon/lat to lat/lon\n",
    "            coordinates = [item[::-1] for item in coordinates]\n",
    "        \n",
    "        #location of map\n",
    "        \n",
    "        lat_mean = sum([item[0] for item in coordinates])/len(coordinates)\n",
    "        long_mean = sum([item[1] for item in coordinates ])/len(coordinates)\n",
    "        m = folium.Map(location=[lat_mean, long_mean], zoom_start=zoom_start)\n",
    "\n",
    "        folium.Polygon(\n",
    "            locations   =   coordinates,  \n",
    "            color       =   color,\n",
    "            fill        =   fill,\n",
    "            fill_color  =   fill_color,\n",
    "            fill_opacity=   fill_opacity\n",
    "        ).add_to(m)\n",
    "        return(m)\n",
    "    #parse times from entry of the form : 2024-12-10T16:00:00+00:00/PT1H\n",
    "    def parse_valid_times(self,validtimes_str):\n",
    "        t0 = dt.fromisoformat( validtimes_str.split('/')[0])\n",
    "        #extract how many days and hour it is valid for\n",
    "        times = re.findall( r'\\d+', validtimes_str.split('/')[1])\n",
    "        ################################################################\n",
    "        ####                    Needs to be fixed                   ####\n",
    "        ################################################################\n",
    "        if len(times) == 1:\n",
    "            if 'd' in validtimes_str:\n",
    "                d = times[0]\n",
    "                h = 0\n",
    "            else:\n",
    "                d = 0\n",
    "                h = times[0]\n",
    "        else:\n",
    "            [d, h] = times\n",
    "        t1 = t0 + timedelta(days = int(d), hours = int(h))\n",
    "        return((t0, t1))\n",
    "    \n",
    "#data from 'forecast' argument of the initial JSON file\n",
    "#url of the form https://api.weather.gov/gridpoints/PQR/{X},{Y}/forecast\n",
    "class forecast(Parent_class):\n",
    "    def __init__(self, forecast_url):\n",
    "        self.forecast_url = forecast_url\n",
    "        forecast_detailed = self.return_json(forecast_url)  \n",
    "        self.forecast_detailed = forecast_detailed\n",
    "        #reverse lat and long to be able to use with external functions\n",
    "        self.coordinates = [item[::-1] for item in forecast_detailed['geometry']['coordinates'][0]]\n",
    "\n",
    "        #forecast is provided as a list of dictionaries which are converted to columns of a dataframe here \n",
    "        df = pd.DataFrame(self.forecast_detailed['properties']['periods'])        \n",
    "        df.drop(['number', 'endTime', 'temperatureTrend'], axis = 1, inplace = True)\n",
    "        df['startTime'] = pd.to_datetime(df['startTime'])\n",
    "        #convert date time to AM PM format for easier consumption\n",
    "        df['startTime'] = df['startTime'].apply(lambda x : x.strftime('%Y-%m-%d %I:%M:%S %p'))\n",
    "        #extract wind speed mins and max\n",
    "        df['windSpeed_min'] = df['windSpeed'].apply(lambda x: int(x.replace(' mph', '').split(' to ')[0]))\n",
    "        df['windSpeed_max']  = df['windSpeed'].apply(lambda x: int(x.replace(' mph', '').split(' to ')[-1]))\n",
    "        df['probabilityOfPrecipitation'] = df['probabilityOfPrecipitation'].apply( lambda x: x['value'] / 100 if x['value'] is not None else 0 )\n",
    "        #df.drop(['number', 'endTime', 'temperatureTrend', 'windSpeed'], axis = 1, inplace = True)\n",
    "        df = df.set_index('startTime')\n",
    "\n",
    "        self.fullForecast_df = df\n",
    "\n",
    "        self.TempForecast   =   df[['temperature', 'temperatureUnit', 'isDaytime']]\n",
    "        self.prob_precp     =   df[['probabilityOfPrecipitation', 'isDaytime']]        \n",
    "        self.wind           =   df[['windSpeed_min', 'windSpeed_max', 'windDirection', 'isDaytime']]\n",
    "\n",
    "#data from 'forecastHourly' argument of the initial JSON file\n",
    "#url of the form https://api.weather.gov/gridpoints/{{STATION_CODE}}/{X},{Y}/forecast/hourly\n",
    "class forecastHourly(Parent_class):\n",
    "    def __init__(self, forecastHourly_url):\n",
    "        self.forecastHourly_url = forecastHourly_url\n",
    "        forecastHourly_detailed = self.return_json(forecastHourly_url)\n",
    "        self.forecastHourly_detailed = forecastHourly_detailed\n",
    "        #reverse lat and long to be able to use with external functions\n",
    "        self.coordinates = [item[::-1] for item in forecastHourly_detailed['geometry']['coordinates'][0]]\n",
    "        \n",
    "        #forecast is provided as a list of dictionaries which are converted to columns of a dataframe here \n",
    "        df = pd.DataFrame(forecastHourly_detailed['properties']['periods'])\n",
    "        df.drop(['number', 'name', 'endTime', 'temperatureTrend', 'detailedForecast'], axis = 1, inplace = True)\n",
    "        df['startTime'] = pd.to_datetime(df['startTime'])\n",
    "        df['startTime'] = df['startTime'].apply(lambda x : x.strftime('%Y-%m-%d %I:%M:%S %p'))\n",
    "        df['probabilityOfPrecipitation'] = df['probabilityOfPrecipitation'].apply( lambda x: x['value'] / 100 if x['value'] is not None else 0 )\n",
    "        df = df.set_index('startTime')\n",
    "\n",
    "        \n",
    "        self.fullForecast_hourly_df = df\n",
    "        self.TempForecast_hourly   =   df[['temperature', 'temperatureUnit', 'isDaytime']]\n",
    "        self.prob_precp_hourly     =   df[['probabilityOfPrecipitation']]\n",
    "\n",
    "class forecastGridData(Parent_class):\n",
    "    def __init__(self, forecastGridData_url):\n",
    "        self.forecastGridData_url = forecastGridData_url\n",
    "        forecastGridData_detailed = self.return_json(forecastGridData_url)\n",
    "        self.forecastGridData_detailed = forecastGridData_detailed\n",
    "\n",
    "        properties = forecastGridData_detailed['properties']\n",
    "\n",
    "        df_temporary = pd.DataFrame()\n",
    "        df_full = pd.DataFrame()\n",
    "        vars = []\n",
    "        categories = {'temperature': [],\n",
    "              'humidity' : [],\n",
    "              'wind' : [],\n",
    "              'precipitation' : [],\n",
    "              'snow' : []}\n",
    "        \n",
    "        for k in properties.keys():\n",
    "            #ignore entries that are not variables or have no values\n",
    "            cond = (type(properties[k]) != dict) or ('values' not in properties[k]) or len(properties[k]['values']) == 0\n",
    "            if cond: continue\n",
    "            variable = properties[k]\n",
    "\n",
    "            df_temporary = pd.DataFrame(variable['values']).rename(columns={'value': k +\"_value\"})\n",
    "            if 'uom' in variable:\n",
    "                df_temporary[k+\"_units\"] = variable['uom'].split(':')[-1]\n",
    "\n",
    "            df_temporary['validTime'] = pd.to_datetime(df_temporary['validTime'].apply(lambda x: x.split('/')[0]))\n",
    "            #df_temporary['validTime'] = df_temporary['validTime'].apply(lambda x: str(x))\n",
    "            df_temporary = df_temporary.set_index('validTime')\n",
    "            df_full = pd.concat((df_full, df_temporary), axis = 1)\n",
    "\n",
    "            for c in categories:\n",
    "                if c in k.lower():\n",
    "                    categories[c].append(k)\n",
    "            vars.append(k)\n",
    "            \n",
    "        self.variables = vars\n",
    "        self.categories = categories\n",
    "        self.full_forecastGrid_df = df_full\n",
    "\n",
    "class weather_details(Parent_class):\n",
    "    def __init__(self, lat, long):\n",
    "        start = time.time()\n",
    "        self.lat = lat\n",
    "        self.long = long\n",
    "        self.url = \"https://api.weather.gov/points/\" + str(lat) + ',' + str(long)\n",
    "        self.data = self.return_json(self.url)\n",
    "\n",
    "        #Create forecast class using forecast URL\n",
    "        #URL of the format - https://api.weather.gov/gridpoints/{{STATION_CODE}}/{{X}},{{Y}}/forecast\n",
    "        self.forecast =forecast(self.data['properties']['forecast'])\n",
    "\n",
    "        #url of the form https://api.weather.gov/gridpoints/{{STATION_CODE}}/{X},{Y}/forecast/hourly\n",
    "        self.forecast_hourly = forecastHourly(self.data['properties']['forecastHourly'])\n",
    "\n",
    "        #url of the form https://api.weather.gov/gridpoints/{{STATION_CODE}}/{X},{Y}\n",
    "        self.forecastGridData = forecastGridData(self.data['properties']['forecastGridData'])\n",
    "\n",
    "        self._properties()\n",
    "\n",
    "    def polygon_to_map(self, zoom_start = 10):\n",
    "        return(self._polygon_to_map_general(self.forecast.coordinates, zoom_start))\n",
    "\n",
    "    def _properties(self):\n",
    "        self.forecastOffice = self.data['properties']['cwa']\n",
    "        #assuming that elevations is always in meters\n",
    "        self.elevation = self.forecast.forecast_detailed['properties']['elevation']['value']\n",
    "        self.elevation_unit = self.forecast.forecast_detailed['properties']['elevation']['unitCode'].split(':')[1]\n",
    "\n",
    "        self.coordinates = self.forecast.coordinates\n",
    "\n",
    "        #defining properties such as forecast generator type, forecast generating date etc...\n",
    "        self.forecast_specifications = {'forecast' : {},\n",
    "                                        'forecast_hourly' : {},\n",
    "                                        'forecastGridData' : {},\n",
    "                                        \"GridDetails\" : {}}\n",
    "        #######################forecast############################\n",
    "        properties = self.forecast.forecast_detailed['properties']\n",
    "        self.forecast_specifications['forecast']['forecastGenerator'] = properties['forecastGenerator']\n",
    "        self.forecast_specifications['forecast']['generatedAt'] = dt.fromisoformat(properties['generatedAt'])\n",
    "        self.forecast_specifications['forecast']['updateTime'] = dt.fromisoformat(properties['updateTime'])\n",
    "\n",
    "        validtimes_str = properties['validTimes']\n",
    "        (t0, t1) = self.parse_valid_times(validtimes_str)\n",
    "        self.forecast_specifications['forecast']['validTime_start'] = t0\n",
    "        self.forecast_specifications['forecast']['validTime_ends']  = t1\n",
    "\n",
    "        #####################forecastHourly########################\n",
    "        properties = self.forecast_hourly.forecastHourly_detailed['properties']\n",
    "        self.forecast_specifications['forecast_hourly']['forecastGenerator'] = properties['forecastGenerator']\n",
    "        self.forecast_specifications['forecast_hourly']['generatedAt'] = dt.fromisoformat(properties['generatedAt'])\n",
    "        self.forecast_specifications['forecast_hourly']['updateTime'] = dt.fromisoformat(properties['updateTime'])\n",
    "\n",
    "        validtimes_str = properties['validTimes']\n",
    "        (t0, t1) = self.parse_valid_times(validtimes_str)\n",
    "        self.forecast_specifications['forecast_hourly']['validTime_start'] = t0\n",
    "        self.forecast_specifications['forecast_hourly']['validTime_ends']  = t1\n",
    "\n",
    "        #####################forecastGridData########################   \n",
    "        properties = self.forecastGridData.forecastGridData_detailed['properties']\n",
    "        keys = ['@type', 'forecastOffice', 'gridId', 'gridX', 'gridY']\n",
    "        for k in keys:\n",
    "            self.forecast_specifications['GridDetails'][k] = properties[k]\n",
    "        self.forecast_specifications['forecastGridData']['updateTime'] = dt.fromisoformat(properties['updateTime'])\n",
    "\n",
    "        validtimes_str = properties['validTimes']\n",
    "        (t0, t1) = self.parse_valid_times(validtimes_str)\n",
    "        self.forecast_specifications['forecastGridData']['validTime_start'] = t0\n",
    "        self.forecast_specifications['forecastGridData']['validTime_ends']  = t1\n",
    "\n"
   ]
  },
  {
   "cell_type": "code",
   "execution_count": 2,
   "metadata": {},
   "outputs": [],
   "source": [
    "def return_json(url_api):\n",
    "    try:\n",
    "        with urllib.request.urlopen(url_api) as url:\n",
    "            data = json.load(url)\n",
    "            return data\n",
    "    except HTTPError as e:\n",
    "        if e.code == 404:\n",
    "            return {\"error\": \"404 Not Found\"}\n",
    "        else:\n",
    "            return {\"error\": f\"HTTP Error {e.code}\"}\n",
    "    except Exception as e:\n",
    "        return {\"error\": str(e)}\n",
    "    \n",
    "def weather_api_coordinates(lat, long):\n",
    "    url_api = \"https://api.weather.gov/points/\" + str(lat) + ',' + str(long)\n",
    "    return(return_json(url_api))\n",
    "\n",
    "def polygon_to_map(coordinates): #coordinates in the format of [[lat, lon]...]\n",
    "    m = folium.Map(location=coordinates[0], zoom_start=13)\n",
    "    folium.Polygon(\n",
    "        locations = coordinates,  # Flip lon/lat to lat/lon\n",
    "        color='blue',\n",
    "        fill=True,\n",
    "        fill_color='cyan',\n",
    "        fill_opacity=0.5\n",
    "    ).add_to(m)\n",
    "    return(m)\n",
    "\n",
    "\n",
    "lat = 47.675908\n",
    "long = -122.208008\n",
    "\n",
    "lat = 33.843487\n",
    "long = -115.756477\n",
    "\n",
    "#joshua\n",
    "lat = 33.934229\n",
    "long = -116.123916\n",
    "\n",
    "#crescent city\n",
    "#lat = 41.784372\n",
    "#long = -124.253517\n",
    "\n",
    "#g = geocoder.ip('me')\n",
    "#lat = g.latlng[0]\n",
    "#long = g.latlng[1]\n",
    "\n",
    "#lat = 46.189070\n",
    "#long = -122.184252\n",
    "\n",
    "#data = weather_api_coordinates(lat, long)"
   ]
  },
  {
   "cell_type": "code",
   "execution_count": 3,
   "metadata": {},
   "outputs": [
    {
     "data": {
      "text/plain": [
       "26.8393"
      ]
     },
     "execution_count": 3,
     "metadata": {},
     "output_type": "execute_result"
    }
   ],
   "source": [
    "g = geocoder.ip('me')\n",
    "g.latlng[0]\n",
    "\n"
   ]
  },
  {
   "cell_type": "code",
   "execution_count": 4,
   "metadata": {},
   "outputs": [
    {
     "name": "stdout",
     "output_type": "stream",
     "text": [
      "8.088574171066284\n"
     ]
    },
    {
     "data": {
      "text/plain": [
       "[[33.9228, -116.1113],\n",
       " [33.9450999, -116.1155],\n",
       " [33.9416, -116.14229999999999],\n",
       " [33.9193, -116.1381],\n",
       " [33.9228, -116.1113]]"
      ]
     },
     "execution_count": 4,
     "metadata": {},
     "output_type": "execute_result"
    }
   ],
   "source": [
    "start = time.time()\n",
    "test = weather_details(lat, long)\n",
    "print(time.time()-start)\n",
    "#test.polygon_to_map()\n",
    "test.forecast.coordinates\n",
    "\n",
    "#test.forecast_specifications['forecastGridData']"
   ]
  },
  {
   "cell_type": "code",
   "execution_count": 5,
   "metadata": {},
   "outputs": [],
   "source": [
    "skyCover = test.forecastGridData.full_forecastGrid_df[['skyCover_value', 'skyCover_units']]"
   ]
  },
  {
   "cell_type": "code",
   "execution_count": 6,
   "metadata": {},
   "outputs": [
    {
     "data": {
      "application/vnd.plotly.v1+json": {
       "config": {
        "plotlyServerURL": "https://plot.ly"
       },
       "data": [
        {
         "hovertemplate": "Metric=skyCover_value<br>validTime=%{x}<br>Measurement=%{y}<extra></extra>",
         "legendgroup": "skyCover_value",
         "line": {
          "color": "#636efa",
          "dash": "solid"
         },
         "marker": {
          "symbol": "circle"
         },
         "mode": "lines",
         "name": "skyCover_value",
         "orientation": "v",
         "showlegend": true,
         "type": "scatter",
         "x": [
          "2025-01-29T04:00:00+00:00",
          "2025-01-29T05:00:00+00:00",
          "2025-01-29T06:00:00+00:00",
          "2025-01-29T07:00:00+00:00",
          "2025-01-29T08:00:00+00:00",
          "2025-01-29T09:00:00+00:00",
          "2025-01-29T11:00:00+00:00",
          "2025-01-29T12:00:00+00:00",
          "2025-01-29T13:00:00+00:00",
          "2025-01-29T14:00:00+00:00",
          "2025-01-29T15:00:00+00:00",
          "2025-01-29T16:00:00+00:00",
          "2025-01-29T17:00:00+00:00",
          "2025-01-29T18:00:00+00:00",
          "2025-01-29T19:00:00+00:00",
          "2025-01-29T21:00:00+00:00",
          "2025-01-29T23:00:00+00:00",
          "2025-01-30T00:00:00+00:00",
          "2025-01-30T01:00:00+00:00",
          "2025-01-30T02:00:00+00:00",
          "2025-01-30T03:00:00+00:00",
          "2025-01-30T04:00:00+00:00",
          "2025-01-30T08:00:00+00:00",
          "2025-01-30T10:00:00+00:00",
          "2025-01-30T11:00:00+00:00",
          "2025-01-30T13:00:00+00:00",
          "2025-01-30T14:00:00+00:00",
          "2025-01-30T15:00:00+00:00",
          "2025-01-30T16:00:00+00:00",
          "2025-01-30T17:00:00+00:00",
          "2025-01-30T18:00:00+00:00",
          "2025-01-30T22:00:00+00:00",
          "2025-01-31T00:00:00+00:00",
          "2025-01-31T01:00:00+00:00",
          "2025-01-31T05:00:00+00:00",
          "2025-01-31T10:00:00+00:00",
          "2025-01-31T11:00:00+00:00",
          "2025-01-31T12:00:00+00:00",
          "2025-01-31T13:00:00+00:00",
          "2025-01-31T14:00:00+00:00",
          "2025-01-31T15:00:00+00:00",
          "2025-01-31T16:00:00+00:00",
          "2025-01-31T17:00:00+00:00",
          "2025-01-31T18:00:00+00:00",
          "2025-01-31T19:00:00+00:00",
          "2025-01-31T20:00:00+00:00",
          "2025-01-31T21:00:00+00:00",
          "2025-01-31T22:00:00+00:00",
          "2025-01-31T23:00:00+00:00",
          "2025-02-01T00:00:00+00:00",
          "2025-02-01T01:00:00+00:00",
          "2025-02-01T02:00:00+00:00",
          "2025-02-01T03:00:00+00:00",
          "2025-02-01T04:00:00+00:00",
          "2025-02-01T05:00:00+00:00",
          "2025-02-01T06:00:00+00:00",
          "2025-02-01T09:00:00+00:00",
          "2025-02-01T10:00:00+00:00",
          "2025-02-01T11:00:00+00:00",
          "2025-02-01T12:00:00+00:00",
          "2025-02-01T13:00:00+00:00",
          "2025-02-01T14:00:00+00:00",
          "2025-02-01T15:00:00+00:00",
          "2025-02-01T16:00:00+00:00",
          "2025-02-01T17:00:00+00:00",
          "2025-02-01T18:00:00+00:00",
          "2025-02-01T20:00:00+00:00",
          "2025-02-01T21:00:00+00:00",
          "2025-02-01T22:00:00+00:00",
          "2025-02-01T23:00:00+00:00",
          "2025-02-02T00:00:00+00:00",
          "2025-02-02T02:00:00+00:00",
          "2025-02-02T03:00:00+00:00",
          "2025-02-02T04:00:00+00:00",
          "2025-02-02T05:00:00+00:00",
          "2025-02-02T06:00:00+00:00",
          "2025-02-02T07:00:00+00:00",
          "2025-02-02T08:00:00+00:00",
          "2025-02-02T09:00:00+00:00",
          "2025-02-02T10:00:00+00:00",
          "2025-02-02T11:00:00+00:00",
          "2025-02-02T12:00:00+00:00",
          "2025-02-02T13:00:00+00:00",
          "2025-02-02T15:00:00+00:00",
          "2025-02-02T16:00:00+00:00",
          "2025-02-02T17:00:00+00:00",
          "2025-02-02T18:00:00+00:00",
          "2025-02-02T19:00:00+00:00",
          "2025-02-02T20:00:00+00:00",
          "2025-02-02T23:00:00+00:00",
          "2025-02-03T00:00:00+00:00",
          "2025-02-03T02:00:00+00:00",
          "2025-02-03T10:00:00+00:00",
          "2025-02-03T11:00:00+00:00",
          "2025-02-03T12:00:00+00:00",
          "2025-02-03T13:00:00+00:00",
          "2025-02-03T14:00:00+00:00",
          "2025-02-03T15:00:00+00:00",
          "2025-02-03T17:00:00+00:00",
          "2025-02-03T18:00:00+00:00",
          "2025-02-03T19:00:00+00:00",
          "2025-02-03T20:00:00+00:00",
          "2025-02-03T21:00:00+00:00",
          "2025-02-03T22:00:00+00:00",
          "2025-02-03T23:00:00+00:00",
          "2025-02-04T00:00:00+00:00",
          "2025-02-04T01:00:00+00:00",
          "2025-02-04T04:00:00+00:00",
          "2025-02-04T05:00:00+00:00",
          "2025-02-04T06:00:00+00:00",
          "2025-02-04T07:00:00+00:00",
          "2025-02-04T08:00:00+00:00",
          "2025-02-04T09:00:00+00:00",
          "2025-02-04T10:00:00+00:00",
          "2025-02-04T11:00:00+00:00",
          "2025-02-04T12:00:00+00:00",
          "2025-02-04T13:00:00+00:00",
          "2025-02-04T14:00:00+00:00",
          "2025-02-04T15:00:00+00:00",
          "2025-02-04T16:00:00+00:00",
          "2025-02-04T17:00:00+00:00",
          "2025-02-04T18:00:00+00:00",
          "2025-02-04T19:00:00+00:00",
          "2025-02-04T20:00:00+00:00",
          "2025-02-04T21:00:00+00:00",
          "2025-02-04T23:00:00+00:00",
          "2025-02-05T00:00:00+00:00",
          "2025-02-05T04:00:00+00:00",
          "2025-02-05T06:00:00+00:00",
          "2025-02-05T07:00:00+00:00",
          "2025-02-05T08:00:00+00:00",
          "2025-02-05T09:00:00+00:00",
          "2025-02-05T10:00:00+00:00",
          "2025-02-05T11:00:00+00:00",
          "2025-02-05T12:00:00+00:00",
          "2025-02-05T13:00:00+00:00",
          "2025-02-05T15:00:00+00:00",
          "2025-02-05T18:00:00+00:00",
          "2025-02-05T20:00:00+00:00",
          "2025-02-05T21:00:00+00:00",
          "2025-02-06T00:00:00+00:00"
         ],
         "xaxis": "x",
         "y": [
          52,
          37,
          63,
          59,
          69,
          57,
          37,
          24,
          13,
          18,
          16,
          5,
          4,
          3,
          2,
          3,
          4,
          6,
          5,
          4,
          6,
          5,
          4,
          5,
          6,
          4,
          6,
          7,
          2,
          1,
          2,
          3,
          4,
          5,
          4,
          5,
          6,
          8,
          10,
          12,
          13,
          11,
          9,
          8,
          11,
          16,
          21,
          27,
          32,
          36,
          37,
          35,
          33,
          30,
          27,
          25,
          26,
          25,
          23,
          24,
          30,
          36,
          40,
          35,
          28,
          22,
          24,
          27,
          31,
          35,
          37,
          35,
          33,
          31,
          28,
          25,
          22,
          19,
          17,
          18,
          21,
          23,
          25,
          24,
          20,
          15,
          10,
          8,
          6,
          7,
          8,
          7,
          8,
          9,
          11,
          15,
          20,
          23,
          21,
          20,
          21,
          23,
          26,
          29,
          32,
          34,
          35,
          36,
          38,
          39,
          40,
          41,
          43,
          47,
          52,
          56,
          57,
          56,
          53,
          48,
          41,
          35,
          31,
          28,
          26,
          27,
          28,
          27,
          26,
          25,
          24,
          25,
          30,
          37,
          43,
          45,
          43,
          35,
          36,
          35,
          19
         ],
         "yaxis": "y"
        }
       ],
       "layout": {
        "height": 600,
        "legend": {
         "title": {
          "text": "Metric"
         },
         "tracegroupgap": 0
        },
        "template": {
         "data": {
          "bar": [
           {
            "error_x": {
             "color": "#2a3f5f"
            },
            "error_y": {
             "color": "#2a3f5f"
            },
            "marker": {
             "line": {
              "color": "#E5ECF6",
              "width": 0.5
             },
             "pattern": {
              "fillmode": "overlay",
              "size": 10,
              "solidity": 0.2
             }
            },
            "type": "bar"
           }
          ],
          "barpolar": [
           {
            "marker": {
             "line": {
              "color": "#E5ECF6",
              "width": 0.5
             },
             "pattern": {
              "fillmode": "overlay",
              "size": 10,
              "solidity": 0.2
             }
            },
            "type": "barpolar"
           }
          ],
          "carpet": [
           {
            "aaxis": {
             "endlinecolor": "#2a3f5f",
             "gridcolor": "white",
             "linecolor": "white",
             "minorgridcolor": "white",
             "startlinecolor": "#2a3f5f"
            },
            "baxis": {
             "endlinecolor": "#2a3f5f",
             "gridcolor": "white",
             "linecolor": "white",
             "minorgridcolor": "white",
             "startlinecolor": "#2a3f5f"
            },
            "type": "carpet"
           }
          ],
          "choropleth": [
           {
            "colorbar": {
             "outlinewidth": 0,
             "ticks": ""
            },
            "type": "choropleth"
           }
          ],
          "contour": [
           {
            "colorbar": {
             "outlinewidth": 0,
             "ticks": ""
            },
            "colorscale": [
             [
              0,
              "#0d0887"
             ],
             [
              0.1111111111111111,
              "#46039f"
             ],
             [
              0.2222222222222222,
              "#7201a8"
             ],
             [
              0.3333333333333333,
              "#9c179e"
             ],
             [
              0.4444444444444444,
              "#bd3786"
             ],
             [
              0.5555555555555556,
              "#d8576b"
             ],
             [
              0.6666666666666666,
              "#ed7953"
             ],
             [
              0.7777777777777778,
              "#fb9f3a"
             ],
             [
              0.8888888888888888,
              "#fdca26"
             ],
             [
              1,
              "#f0f921"
             ]
            ],
            "type": "contour"
           }
          ],
          "contourcarpet": [
           {
            "colorbar": {
             "outlinewidth": 0,
             "ticks": ""
            },
            "type": "contourcarpet"
           }
          ],
          "heatmap": [
           {
            "colorbar": {
             "outlinewidth": 0,
             "ticks": ""
            },
            "colorscale": [
             [
              0,
              "#0d0887"
             ],
             [
              0.1111111111111111,
              "#46039f"
             ],
             [
              0.2222222222222222,
              "#7201a8"
             ],
             [
              0.3333333333333333,
              "#9c179e"
             ],
             [
              0.4444444444444444,
              "#bd3786"
             ],
             [
              0.5555555555555556,
              "#d8576b"
             ],
             [
              0.6666666666666666,
              "#ed7953"
             ],
             [
              0.7777777777777778,
              "#fb9f3a"
             ],
             [
              0.8888888888888888,
              "#fdca26"
             ],
             [
              1,
              "#f0f921"
             ]
            ],
            "type": "heatmap"
           }
          ],
          "heatmapgl": [
           {
            "colorbar": {
             "outlinewidth": 0,
             "ticks": ""
            },
            "colorscale": [
             [
              0,
              "#0d0887"
             ],
             [
              0.1111111111111111,
              "#46039f"
             ],
             [
              0.2222222222222222,
              "#7201a8"
             ],
             [
              0.3333333333333333,
              "#9c179e"
             ],
             [
              0.4444444444444444,
              "#bd3786"
             ],
             [
              0.5555555555555556,
              "#d8576b"
             ],
             [
              0.6666666666666666,
              "#ed7953"
             ],
             [
              0.7777777777777778,
              "#fb9f3a"
             ],
             [
              0.8888888888888888,
              "#fdca26"
             ],
             [
              1,
              "#f0f921"
             ]
            ],
            "type": "heatmapgl"
           }
          ],
          "histogram": [
           {
            "marker": {
             "pattern": {
              "fillmode": "overlay",
              "size": 10,
              "solidity": 0.2
             }
            },
            "type": "histogram"
           }
          ],
          "histogram2d": [
           {
            "colorbar": {
             "outlinewidth": 0,
             "ticks": ""
            },
            "colorscale": [
             [
              0,
              "#0d0887"
             ],
             [
              0.1111111111111111,
              "#46039f"
             ],
             [
              0.2222222222222222,
              "#7201a8"
             ],
             [
              0.3333333333333333,
              "#9c179e"
             ],
             [
              0.4444444444444444,
              "#bd3786"
             ],
             [
              0.5555555555555556,
              "#d8576b"
             ],
             [
              0.6666666666666666,
              "#ed7953"
             ],
             [
              0.7777777777777778,
              "#fb9f3a"
             ],
             [
              0.8888888888888888,
              "#fdca26"
             ],
             [
              1,
              "#f0f921"
             ]
            ],
            "type": "histogram2d"
           }
          ],
          "histogram2dcontour": [
           {
            "colorbar": {
             "outlinewidth": 0,
             "ticks": ""
            },
            "colorscale": [
             [
              0,
              "#0d0887"
             ],
             [
              0.1111111111111111,
              "#46039f"
             ],
             [
              0.2222222222222222,
              "#7201a8"
             ],
             [
              0.3333333333333333,
              "#9c179e"
             ],
             [
              0.4444444444444444,
              "#bd3786"
             ],
             [
              0.5555555555555556,
              "#d8576b"
             ],
             [
              0.6666666666666666,
              "#ed7953"
             ],
             [
              0.7777777777777778,
              "#fb9f3a"
             ],
             [
              0.8888888888888888,
              "#fdca26"
             ],
             [
              1,
              "#f0f921"
             ]
            ],
            "type": "histogram2dcontour"
           }
          ],
          "mesh3d": [
           {
            "colorbar": {
             "outlinewidth": 0,
             "ticks": ""
            },
            "type": "mesh3d"
           }
          ],
          "parcoords": [
           {
            "line": {
             "colorbar": {
              "outlinewidth": 0,
              "ticks": ""
             }
            },
            "type": "parcoords"
           }
          ],
          "pie": [
           {
            "automargin": true,
            "type": "pie"
           }
          ],
          "scatter": [
           {
            "fillpattern": {
             "fillmode": "overlay",
             "size": 10,
             "solidity": 0.2
            },
            "type": "scatter"
           }
          ],
          "scatter3d": [
           {
            "line": {
             "colorbar": {
              "outlinewidth": 0,
              "ticks": ""
             }
            },
            "marker": {
             "colorbar": {
              "outlinewidth": 0,
              "ticks": ""
             }
            },
            "type": "scatter3d"
           }
          ],
          "scattercarpet": [
           {
            "marker": {
             "colorbar": {
              "outlinewidth": 0,
              "ticks": ""
             }
            },
            "type": "scattercarpet"
           }
          ],
          "scattergeo": [
           {
            "marker": {
             "colorbar": {
              "outlinewidth": 0,
              "ticks": ""
             }
            },
            "type": "scattergeo"
           }
          ],
          "scattergl": [
           {
            "marker": {
             "colorbar": {
              "outlinewidth": 0,
              "ticks": ""
             }
            },
            "type": "scattergl"
           }
          ],
          "scattermapbox": [
           {
            "marker": {
             "colorbar": {
              "outlinewidth": 0,
              "ticks": ""
             }
            },
            "type": "scattermapbox"
           }
          ],
          "scatterpolar": [
           {
            "marker": {
             "colorbar": {
              "outlinewidth": 0,
              "ticks": ""
             }
            },
            "type": "scatterpolar"
           }
          ],
          "scatterpolargl": [
           {
            "marker": {
             "colorbar": {
              "outlinewidth": 0,
              "ticks": ""
             }
            },
            "type": "scatterpolargl"
           }
          ],
          "scatterternary": [
           {
            "marker": {
             "colorbar": {
              "outlinewidth": 0,
              "ticks": ""
             }
            },
            "type": "scatterternary"
           }
          ],
          "surface": [
           {
            "colorbar": {
             "outlinewidth": 0,
             "ticks": ""
            },
            "colorscale": [
             [
              0,
              "#0d0887"
             ],
             [
              0.1111111111111111,
              "#46039f"
             ],
             [
              0.2222222222222222,
              "#7201a8"
             ],
             [
              0.3333333333333333,
              "#9c179e"
             ],
             [
              0.4444444444444444,
              "#bd3786"
             ],
             [
              0.5555555555555556,
              "#d8576b"
             ],
             [
              0.6666666666666666,
              "#ed7953"
             ],
             [
              0.7777777777777778,
              "#fb9f3a"
             ],
             [
              0.8888888888888888,
              "#fdca26"
             ],
             [
              1,
              "#f0f921"
             ]
            ],
            "type": "surface"
           }
          ],
          "table": [
           {
            "cells": {
             "fill": {
              "color": "#EBF0F8"
             },
             "line": {
              "color": "white"
             }
            },
            "header": {
             "fill": {
              "color": "#C8D4E3"
             },
             "line": {
              "color": "white"
             }
            },
            "type": "table"
           }
          ]
         },
         "layout": {
          "annotationdefaults": {
           "arrowcolor": "#2a3f5f",
           "arrowhead": 0,
           "arrowwidth": 1
          },
          "autotypenumbers": "strict",
          "coloraxis": {
           "colorbar": {
            "outlinewidth": 0,
            "ticks": ""
           }
          },
          "colorscale": {
           "diverging": [
            [
             0,
             "#8e0152"
            ],
            [
             0.1,
             "#c51b7d"
            ],
            [
             0.2,
             "#de77ae"
            ],
            [
             0.3,
             "#f1b6da"
            ],
            [
             0.4,
             "#fde0ef"
            ],
            [
             0.5,
             "#f7f7f7"
            ],
            [
             0.6,
             "#e6f5d0"
            ],
            [
             0.7,
             "#b8e186"
            ],
            [
             0.8,
             "#7fbc41"
            ],
            [
             0.9,
             "#4d9221"
            ],
            [
             1,
             "#276419"
            ]
           ],
           "sequential": [
            [
             0,
             "#0d0887"
            ],
            [
             0.1111111111111111,
             "#46039f"
            ],
            [
             0.2222222222222222,
             "#7201a8"
            ],
            [
             0.3333333333333333,
             "#9c179e"
            ],
            [
             0.4444444444444444,
             "#bd3786"
            ],
            [
             0.5555555555555556,
             "#d8576b"
            ],
            [
             0.6666666666666666,
             "#ed7953"
            ],
            [
             0.7777777777777778,
             "#fb9f3a"
            ],
            [
             0.8888888888888888,
             "#fdca26"
            ],
            [
             1,
             "#f0f921"
            ]
           ],
           "sequentialminus": [
            [
             0,
             "#0d0887"
            ],
            [
             0.1111111111111111,
             "#46039f"
            ],
            [
             0.2222222222222222,
             "#7201a8"
            ],
            [
             0.3333333333333333,
             "#9c179e"
            ],
            [
             0.4444444444444444,
             "#bd3786"
            ],
            [
             0.5555555555555556,
             "#d8576b"
            ],
            [
             0.6666666666666666,
             "#ed7953"
            ],
            [
             0.7777777777777778,
             "#fb9f3a"
            ],
            [
             0.8888888888888888,
             "#fdca26"
            ],
            [
             1,
             "#f0f921"
            ]
           ]
          },
          "colorway": [
           "#636efa",
           "#EF553B",
           "#00cc96",
           "#ab63fa",
           "#FFA15A",
           "#19d3f3",
           "#FF6692",
           "#B6E880",
           "#FF97FF",
           "#FECB52"
          ],
          "font": {
           "color": "#2a3f5f"
          },
          "geo": {
           "bgcolor": "white",
           "lakecolor": "white",
           "landcolor": "#E5ECF6",
           "showlakes": true,
           "showland": true,
           "subunitcolor": "white"
          },
          "hoverlabel": {
           "align": "left"
          },
          "hovermode": "closest",
          "mapbox": {
           "style": "light"
          },
          "paper_bgcolor": "white",
          "plot_bgcolor": "#E5ECF6",
          "polar": {
           "angularaxis": {
            "gridcolor": "white",
            "linecolor": "white",
            "ticks": ""
           },
           "bgcolor": "#E5ECF6",
           "radialaxis": {
            "gridcolor": "white",
            "linecolor": "white",
            "ticks": ""
           }
          },
          "scene": {
           "xaxis": {
            "backgroundcolor": "#E5ECF6",
            "gridcolor": "white",
            "gridwidth": 2,
            "linecolor": "white",
            "showbackground": true,
            "ticks": "",
            "zerolinecolor": "white"
           },
           "yaxis": {
            "backgroundcolor": "#E5ECF6",
            "gridcolor": "white",
            "gridwidth": 2,
            "linecolor": "white",
            "showbackground": true,
            "ticks": "",
            "zerolinecolor": "white"
           },
           "zaxis": {
            "backgroundcolor": "#E5ECF6",
            "gridcolor": "white",
            "gridwidth": 2,
            "linecolor": "white",
            "showbackground": true,
            "ticks": "",
            "zerolinecolor": "white"
           }
          },
          "shapedefaults": {
           "line": {
            "color": "#2a3f5f"
           }
          },
          "ternary": {
           "aaxis": {
            "gridcolor": "white",
            "linecolor": "white",
            "ticks": ""
           },
           "baxis": {
            "gridcolor": "white",
            "linecolor": "white",
            "ticks": ""
           },
           "bgcolor": "#E5ECF6",
           "caxis": {
            "gridcolor": "white",
            "linecolor": "white",
            "ticks": ""
           }
          },
          "title": {
           "x": 0.05
          },
          "xaxis": {
           "automargin": true,
           "gridcolor": "white",
           "linecolor": "white",
           "ticks": "",
           "title": {
            "standoff": 15
           },
           "zerolinecolor": "white",
           "zerolinewidth": 2
          },
          "yaxis": {
           "automargin": true,
           "gridcolor": "white",
           "linecolor": "white",
           "ticks": "",
           "title": {
            "standoff": 15
           },
           "zerolinecolor": "white",
           "zerolinewidth": 2
          }
         }
        },
        "title": {
         "text": "Time Series Visualization",
         "x": 0.5
        },
        "xaxis": {
         "anchor": "y",
         "domain": [
          0,
          1
         ],
         "rangeslider": {
          "visible": true
         },
         "title": {
          "text": "validTime"
         }
        },
        "yaxis": {
         "anchor": "x",
         "domain": [
          0,
          1
         ],
         "range": [
          0,
          100
         ],
         "title": {
          "text": "Measurement"
         }
        }
       }
      }
     },
     "metadata": {},
     "output_type": "display_data"
    }
   ],
   "source": [
    "import plotly.express as px\n",
    "import plotly.graph_objs as go\n",
    "from plotly.subplots import make_subplots\n",
    "\n",
    "def plotly_express_timeseries(df, index = 'index', title = 'Time Series Visualization' ):\n",
    "    \"\"\"Create interactive line plot using Plotly Express\"\"\"\n",
    "    fig = px.line(\n",
    "        df.reset_index(), \n",
    "        x=index, \n",
    "        y=df.columns, \n",
    "        title=title,\n",
    "        labels={'index': 'Date', 'value': 'Measurement', 'variable': 'Metric'},\n",
    "        height=600\n",
    "    )\n",
    "    \n",
    "    # Add range slider and selectors\n",
    "    fig.update_layout(\n",
    "        xaxis_rangeslider_visible=True,\n",
    "        title_x=0.5,\n",
    "        yaxis = dict(range=[0, 100])\n",
    "    )\n",
    "    \n",
    "    return fig\n",
    "\n",
    "#plotly_express_timeseries(skyCover.dropna())\n",
    "df = skyCover.dropna()[['skyCover_value']]\n",
    "plotly_express_timeseries(df, 'validTime')\n"
   ]
  },
  {
   "cell_type": "code",
   "execution_count": null,
   "metadata": {},
   "outputs": [],
   "source": []
  },
  {
   "cell_type": "code",
   "execution_count": null,
   "metadata": {},
   "outputs": [],
   "source": []
  },
  {
   "cell_type": "code",
   "execution_count": null,
   "metadata": {},
   "outputs": [],
   "source": []
  },
  {
   "cell_type": "code",
   "execution_count": null,
   "metadata": {},
   "outputs": [],
   "source": []
  }
 ],
 "metadata": {
  "kernelspec": {
   "display_name": "Python 3",
   "language": "python",
   "name": "python3"
  },
  "language_info": {
   "codemirror_mode": {
    "name": "ipython",
    "version": 3
   },
   "file_extension": ".py",
   "mimetype": "text/x-python",
   "name": "python",
   "nbconvert_exporter": "python",
   "pygments_lexer": "ipython3",
   "version": "3.12.5"
  }
 },
 "nbformat": 4,
 "nbformat_minor": 2
}
