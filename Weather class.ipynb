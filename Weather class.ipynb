{
 "cells": [
  {
   "cell_type": "code",
   "execution_count": 39,
   "metadata": {},
   "outputs": [],
   "source": [
    "import pandas as pd\n",
    "import urllib.request, json\n",
    "from datetime import datetime as dt\n",
    "import time\n",
    "from datetime import timedelta, date\n",
    "import re\n",
    "import pytz\n",
    "import folium\n"
   ]
  },
  {
   "cell_type": "code",
   "execution_count": null,
   "metadata": {},
   "outputs": [],
   "source": [
    "class weather_details():\n",
    "    def __init__(self, lat, long):\n",
    "        start = time.time()\n",
    "        self.lat = lat\n",
    "        self.long = long\n",
    "        self.url = \"https://api.weather.gov/points/\" + str(lat) + ',' + str(long)\n",
    "        self.data = self.return_json(self.url)\n",
    "\n",
    "        self.forecastOffice = self.data['properties']['cwa']\n",
    "\n",
    "        self.forecast()\n",
    "        #assuming that elevations is always in meters\n",
    "        self.elevation = self.forecast_detailed['properties']['elevation']['value']\n",
    "        self.elevation_unit = self.forecast_detailed['properties']['elevation']['unitCode'].split(':')[1]\n",
    "\n",
    "        self.forecast_hourly()\n",
    "        self.properties()\n",
    "    \n",
    "    def forecast(self):\n",
    "        self.forecast_url = self.data['properties']['forecast']\n",
    "        \n",
    "        forecast_detailed = self.return_json(self.forecast_url)  \n",
    "        self.forecast_detailed = forecast_detailed\n",
    "        self.forecast = {}\n",
    "        self.forecast['coordinates'] = [item[::-1] for item in forecast_detailed['geometry']['coordinates'][0]]\n",
    "        \n",
    "        #forecast is provided as a list of dictionaries which are converted to columns of a dataframe here \n",
    "        df = pd.DataFrame(self.forecast_detailed['properties']['periods'])        \n",
    "        df.drop(['number', 'endTime', 'temperatureTrend'], axis = 1, inplace = True)\n",
    "        df['startTime'] = pd.to_datetime(df['startTime'])\n",
    "        #convert date time to AM PM format for easier consumption\n",
    "        df['startTime'] = df['startTime'].apply(lambda x : x.strftime('%Y-%m-%d %I:%M:%S %p'))\n",
    "        #extract wind speed mins and max\n",
    "        df['windSpeed_min'] = df['windSpeed'].apply(lambda x: int(x.replace(' mph', '').split(' to ')[0]))\n",
    "        df['windSpeed_max']  = df['windSpeed'].apply(lambda x: int(x.replace(' mph', '').split(' to ')[-1]))\n",
    "        df['probabilityOfPrecipitation'] = df['probabilityOfPrecipitation'].apply( lambda x: x['value'] / 100 if x['value'] is not None else 0 )\n",
    "        #df.drop(['number', 'endTime', 'temperatureTrend', 'windSpeed'], axis = 1, inplace = True)\n",
    "        df = df.set_index('startTime')\n",
    "\n",
    "        self.forecast['fullforecast_df'] = df\n",
    "        #assuming temperature unit is always F\n",
    "        self.forecast['TempForecast_df'] = df[['temperature']]\n",
    "        self.forecast['Probability of precipitation'] = df[['probabilityOfPrecipitation']]\n",
    "        self.forecast['wind'] = df[['windSpeed_min', 'windSpeed_max', 'windDirection']]\n",
    "\n",
    "    def forecast_hourly(self):\n",
    "        self.forecastHourly_url = self.data['properties']['forecastHourly']\n",
    "        forecastHourly_detailed = self.return_json(self.forecastHourly_url)\n",
    "        self.forecastHourly_detailed = forecastHourly_detailed\n",
    "\n",
    "    def properties(self):\n",
    "        #defining properties such as forecast generator type, forecast generating date etc...\n",
    "        self.forecast_specifications = {'forecast' : {},\n",
    "                                        'Hourlyforecast' : {}}\n",
    "        properties = self.forecast_detailed['properties']\n",
    "        self.forecast_specifications['forecast']['forecastGenerator'] = properties['forecastGenerator']\n",
    "        self.forecast_specifications['forecast']['generatedAt'] = dt.fromisoformat(properties['generatedAt'])\n",
    "        self.forecast_specifications['forecast']['updateTime'] = dt.fromisoformat(properties['updateTime'])\n",
    "\n",
    "        validtimes_str = properties['validTimes']\n",
    "        self.forecast_specifications['forecast']['validTime_start'] = dt.fromisoformat( validtimes_str.split('/')[0])\n",
    "        #extract how many days and hour it is valid for\n",
    "        [d, h] = re.findall( r'\\d+', validtimes_str.split('/')[1])\n",
    "        self.forecast_specifications['forecast']['validTime_ends'] = self.forecast_specifications['forecast']['validTime_start'] + timedelta(days = int(d), hours = int(h))\n",
    "\n",
    "    def return_json(self, url_api):\n",
    "        with urllib.request.urlopen(url_api) as url:\n",
    "            data = json.load(url)\n",
    "            return data\n",
    "    #coordinates in the format of [[lat, lon]...]\n",
    "    def polygon_to_map(self, coordinates = -1, zoom_start = 10):\n",
    "        if coordinates == -1:\n",
    "            coordinates = self.forecast['coordinates'] \n",
    "        lat_mean = sum([item[0] for item in coordinates])/len(coordinates)\n",
    "        long_mean = sum([item[1] for item in coordinates ])/len(coordinates)\n",
    "        m = folium.Map(location=[lat_mean, long_mean], zoom_start=zoom_start)\n",
    "        folium.Polygon(\n",
    "            locations = coordinates,  # Flip lon/lat to lat/lon\n",
    "            color='blue',\n",
    "            fill=True,\n",
    "            fill_color='cyan',\n",
    "            fill_opacity=0.5\n",
    "        ).add_to(m)\n",
    "        return(m)\n",
    "\n",
    "def return_json(url_api):\n",
    "    with urllib.request.urlopen(url_api) as url:\n",
    "        data = json.load(url)\n",
    "        return data\n",
    "def weather_api_coordinates(lat, long):\n",
    "    url_api = \"https://api.weather.gov/points/\" + str(lat) + ',' + str(long)\n",
    "    return(return_json(url_api))\n",
    "\n",
    "def polygon_to_map(coordinates): #coordinates in the format of [[lat, lon]...]\n",
    "    m = folium.Map(location=coordinates[0], zoom_start=13)\n",
    "    folium.Polygon(\n",
    "        locations = coordinates,  # Flip lon/lat to lat/lon\n",
    "        color='blue',\n",
    "        fill=True,\n",
    "        fill_color='cyan',\n",
    "        fill_opacity=0.5\n",
    "    ).add_to(m)\n",
    "    return(m)\n",
    "\n",
    "\n",
    "\n",
    "lat = 47.675908\n",
    "long = -122.208008\n",
    "\n",
    "lat = 46.189070\n",
    "long = -122.184252\n",
    "\n",
    "#data = weather_api_coordinates(lat, long)"
   ]
  },
  {
   "cell_type": "code",
   "execution_count": 46,
   "metadata": {},
   "outputs": [
    {
     "name": "stdout",
     "output_type": "stream",
     "text": [
      "https://api.weather.gov/points/46.18907,-122.184252\n",
      "0.0\n",
      "19.836196422576904\n",
      "0.0\n",
      "4.613446474075317\n"
     ]
    }
   ],
   "source": [
    "test = weather_details(lat, long)\n",
    "#test.polygon_to_map()"
   ]
  },
  {
   "cell_type": "code",
   "execution_count": 34,
   "metadata": {},
   "outputs": [
    {
     "data": {
      "text/html": [
       "<div style=\"width:100%;\"><div style=\"position:relative;width:100%;height:0;padding-bottom:60%;\"><span style=\"color:#565656\">Make this Notebook Trusted to load map: File -> Trust Notebook</span><iframe srcdoc=\"&lt;!DOCTYPE html&gt;\n",
       "&lt;html&gt;\n",
       "&lt;head&gt;\n",
       "    \n",
       "    &lt;meta http-equiv=&quot;content-type&quot; content=&quot;text/html; charset=UTF-8&quot; /&gt;\n",
       "    \n",
       "        &lt;script&gt;\n",
       "            L_NO_TOUCH = false;\n",
       "            L_DISABLE_3D = false;\n",
       "        &lt;/script&gt;\n",
       "    \n",
       "    &lt;style&gt;html, body {width: 100%;height: 100%;margin: 0;padding: 0;}&lt;/style&gt;\n",
       "    &lt;style&gt;#map {position:absolute;top:0;bottom:0;right:0;left:0;}&lt;/style&gt;\n",
       "    &lt;script src=&quot;https://cdn.jsdelivr.net/npm/leaflet@1.9.3/dist/leaflet.js&quot;&gt;&lt;/script&gt;\n",
       "    &lt;script src=&quot;https://code.jquery.com/jquery-3.7.1.min.js&quot;&gt;&lt;/script&gt;\n",
       "    &lt;script src=&quot;https://cdn.jsdelivr.net/npm/bootstrap@5.2.2/dist/js/bootstrap.bundle.min.js&quot;&gt;&lt;/script&gt;\n",
       "    &lt;script src=&quot;https://cdnjs.cloudflare.com/ajax/libs/Leaflet.awesome-markers/2.0.2/leaflet.awesome-markers.js&quot;&gt;&lt;/script&gt;\n",
       "    &lt;link rel=&quot;stylesheet&quot; href=&quot;https://cdn.jsdelivr.net/npm/leaflet@1.9.3/dist/leaflet.css&quot;/&gt;\n",
       "    &lt;link rel=&quot;stylesheet&quot; href=&quot;https://cdn.jsdelivr.net/npm/bootstrap@5.2.2/dist/css/bootstrap.min.css&quot;/&gt;\n",
       "    &lt;link rel=&quot;stylesheet&quot; href=&quot;https://netdna.bootstrapcdn.com/bootstrap/3.0.0/css/bootstrap-glyphicons.css&quot;/&gt;\n",
       "    &lt;link rel=&quot;stylesheet&quot; href=&quot;https://cdn.jsdelivr.net/npm/@fortawesome/fontawesome-free@6.2.0/css/all.min.css&quot;/&gt;\n",
       "    &lt;link rel=&quot;stylesheet&quot; href=&quot;https://cdnjs.cloudflare.com/ajax/libs/Leaflet.awesome-markers/2.0.2/leaflet.awesome-markers.css&quot;/&gt;\n",
       "    &lt;link rel=&quot;stylesheet&quot; href=&quot;https://cdn.jsdelivr.net/gh/python-visualization/folium/folium/templates/leaflet.awesome.rotate.min.css&quot;/&gt;\n",
       "    \n",
       "            &lt;meta name=&quot;viewport&quot; content=&quot;width=device-width,\n",
       "                initial-scale=1.0, maximum-scale=1.0, user-scalable=no&quot; /&gt;\n",
       "            &lt;style&gt;\n",
       "                #map_5d2deb193a62adef79e6bc671b3201ba {\n",
       "                    position: relative;\n",
       "                    width: 100.0%;\n",
       "                    height: 100.0%;\n",
       "                    left: 0.0%;\n",
       "                    top: 0.0%;\n",
       "                }\n",
       "                .leaflet-container { font-size: 1rem; }\n",
       "            &lt;/style&gt;\n",
       "        \n",
       "&lt;/head&gt;\n",
       "&lt;body&gt;\n",
       "    \n",
       "    \n",
       "            &lt;div class=&quot;folium-map&quot; id=&quot;map_5d2deb193a62adef79e6bc671b3201ba&quot; &gt;&lt;/div&gt;\n",
       "        \n",
       "&lt;/body&gt;\n",
       "&lt;script&gt;\n",
       "    \n",
       "    \n",
       "            var map_5d2deb193a62adef79e6bc671b3201ba = L.map(\n",
       "                &quot;map_5d2deb193a62adef79e6bc671b3201ba&quot;,\n",
       "                {\n",
       "                    center: [46.18381456, -122.18179654000001],\n",
       "                    crs: L.CRS.EPSG3857,\n",
       "                    zoom: 15,\n",
       "                    zoomControl: true,\n",
       "                    preferCanvas: false,\n",
       "                }\n",
       "            );\n",
       "\n",
       "            \n",
       "\n",
       "        \n",
       "    \n",
       "            var tile_layer_774401908363c0f69aaf528eeba57eb9 = L.tileLayer(\n",
       "                &quot;https://tile.openstreetmap.org/{z}/{x}/{y}.png&quot;,\n",
       "                {&quot;attribution&quot;: &quot;\\u0026copy; \\u003ca href=\\&quot;https://www.openstreetmap.org/copyright\\&quot;\\u003eOpenStreetMap\\u003c/a\\u003e contributors&quot;, &quot;detectRetina&quot;: false, &quot;maxNativeZoom&quot;: 19, &quot;maxZoom&quot;: 19, &quot;minZoom&quot;: 0, &quot;noWrap&quot;: false, &quot;opacity&quot;: 1, &quot;subdomains&quot;: &quot;abc&quot;, &quot;tms&quot;: false}\n",
       "            );\n",
       "        \n",
       "    \n",
       "            tile_layer_774401908363c0f69aaf528eeba57eb9.addTo(map_5d2deb193a62adef79e6bc671b3201ba);\n",
       "        \n",
       "    \n",
       "            var polygon_dd5f4fcc02c479cb0d62283c97059886 = L.polygon(\n",
       "                [[46.190432, -122.1962409], [46.1696659, -122.19014320000001], [46.1738883, -122.1601332], [46.1946546, -122.1662245], [46.190432, -122.1962409]],\n",
       "                {&quot;bubblingMouseEvents&quot;: true, &quot;color&quot;: &quot;blue&quot;, &quot;dashArray&quot;: null, &quot;dashOffset&quot;: null, &quot;fill&quot;: true, &quot;fillColor&quot;: &quot;cyan&quot;, &quot;fillOpacity&quot;: 0.5, &quot;fillRule&quot;: &quot;evenodd&quot;, &quot;lineCap&quot;: &quot;round&quot;, &quot;lineJoin&quot;: &quot;round&quot;, &quot;noClip&quot;: false, &quot;opacity&quot;: 1.0, &quot;smoothFactor&quot;: 1.0, &quot;stroke&quot;: true, &quot;weight&quot;: 3}\n",
       "            ).addTo(map_5d2deb193a62adef79e6bc671b3201ba);\n",
       "        \n",
       "&lt;/script&gt;\n",
       "&lt;/html&gt;\" style=\"position:absolute;width:100%;height:100%;left:0;top:0;border:none !important;\" allowfullscreen webkitallowfullscreen mozallowfullscreen></iframe></div></div>"
      ],
      "text/plain": [
       "<folium.folium.Map at 0x26d380aac00>"
      ]
     },
     "execution_count": 34,
     "metadata": {},
     "output_type": "execute_result"
    }
   ],
   "source": [
    "m = test.polygon_to_map(zoom_start = 15)\n",
    "m"
   ]
  },
  {
   "cell_type": "code",
   "execution_count": 30,
   "metadata": {},
   "outputs": [
    {
     "data": {
      "text/plain": [
       "[[46.190432, -122.1962409],\n",
       " [46.1696659, -122.19014320000001],\n",
       " [46.1738883, -122.1601332],\n",
       " [46.1946546, -122.1662245],\n",
       " [46.190432, -122.1962409]]"
      ]
     },
     "execution_count": 30,
     "metadata": {},
     "output_type": "execute_result"
    }
   ],
   "source": [
    "test.forecast['coordinates']"
   ]
  },
  {
   "cell_type": "code",
   "execution_count": 26,
   "metadata": {},
   "outputs": [
    {
     "data": {
      "text/plain": [
       "-122.18179654000001"
      ]
     },
     "execution_count": 26,
     "metadata": {},
     "output_type": "execute_result"
    }
   ],
   "source": [
    "lat_mean = sum([item[0] for item in test.forecast['coordinates']])/len(test.forecast['coordinates'])\n",
    "long_mean = sum([item[1] for item in test.forecast['coordinates']])/len(test.forecast['coordinates'])\n",
    "long_mean\n"
   ]
  },
  {
   "cell_type": "code",
   "execution_count": 23,
   "metadata": {},
   "outputs": [
    {
     "data": {
      "text/plain": [
       "46.18381456"
      ]
     },
     "execution_count": 23,
     "metadata": {},
     "output_type": "execute_result"
    }
   ],
   "source": [
    "lat_mean"
   ]
  },
  {
   "cell_type": "code",
   "execution_count": 24,
   "metadata": {},
   "outputs": [
    {
     "data": {
      "text/plain": [
       "-122.18179654"
      ]
     },
     "execution_count": 24,
     "metadata": {},
     "output_type": "execute_result"
    }
   ],
   "source": [
    "long_mean"
   ]
  },
  {
   "cell_type": "code",
   "execution_count": null,
   "metadata": {},
   "outputs": [],
   "source": []
  }
 ],
 "metadata": {
  "kernelspec": {
   "display_name": "Python 3",
   "language": "python",
   "name": "python3"
  },
  "language_info": {
   "codemirror_mode": {
    "name": "ipython",
    "version": 3
   },
   "file_extension": ".py",
   "mimetype": "text/x-python",
   "name": "python",
   "nbconvert_exporter": "python",
   "pygments_lexer": "ipython3",
   "version": "3.12.5"
  }
 },
 "nbformat": 4,
 "nbformat_minor": 2
}
