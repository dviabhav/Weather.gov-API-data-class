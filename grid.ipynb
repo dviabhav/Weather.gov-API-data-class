{
 "cells": [
  {
   "cell_type": "code",
   "execution_count": 2,
   "metadata": {},
   "outputs": [
    {
     "data": {
      "text/plain": [
       "36"
      ]
     },
     "execution_count": 2,
     "metadata": {},
     "output_type": "execute_result"
    }
   ],
   "source": [
    "import pandas as pd\n",
    "import urllib.request, json\n",
    "from urllib.error import HTTPError\n",
    "import numpy as np\n",
    "\n",
    "from datetime import datetime as dt\n",
    "import time\n",
    "from datetime import timedelta, date\n",
    "import re\n",
    "import pytz\n",
    "import concurrent.futures\n",
    "import folium\n",
    "\n",
    "def polygon_to_map(coordinates, zoom_start = 10, invert = False): #coordinates in the format of [[lat, lon]...]\n",
    "    if invert:\n",
    "        coordinates = [item[::-1] for item in coordinates]\n",
    "        \n",
    "    lat_mean = sum([item[0] for item in coordinates])/len(coordinates)\n",
    "    long_mean = sum([item[1] for item in coordinates ])/len(coordinates)\n",
    "\n",
    "    m = folium.Map(location=[lat_mean, long_mean], zoom_start=zoom_start)\n",
    "\n",
    "    folium.Polygon(\n",
    "        locations = coordinates,  # Flip lon/lat to lat/lon\n",
    "        color='blue',\n",
    "        fill=True,\n",
    "        fill_color='cyan',\n",
    "        fill_opacity=0.5\n",
    "    ).add_to(m)\n",
    "    return(m)\n",
    "\n",
    "def return_json(url_api):\n",
    "    try:\n",
    "        with urllib.request.urlopen(url_api) as url:\n",
    "            data = json.load(url)\n",
    "            return data\n",
    "    except HTTPError as e:\n",
    "        if e.code == 404:\n",
    "            return {\"error\": \"404 Not Found\"}\n",
    "        else:\n",
    "            return {\"error\": f\"HTTP Error {e.code}\"}\n",
    "    except Exception as e:\n",
    "        return {\"error\": str(e)}\n",
    "def weather_api_coordinates(lat, long):\n",
    "    url_api = \"https://api.weather.gov/points/\" + str(lat) + ',' + str(long)\n",
    "    return(return_json(url_api))\n",
    "\n",
    "def wait(delta_time = 1):\n",
    "    start_time = time.time()\n",
    "    while start_time + delta_time > time.time():\n",
    "        continue\n",
    "\n",
    "def is_in_US(coord, i = 0):\n",
    "    res = weather_api_coordinates(coord[0], coord[1])\n",
    "    if '@context' in res:\n",
    "        if res['properties']['gridId'] != None:\n",
    "            if i != 0:\n",
    "                print('\\n 403 RESOLVED!!!!!!!!!!!!!!!!!\\n')\n",
    "            return({coord : True,'res':res})\n",
    "        else:\n",
    "            return({coord: False, 'res': {'error': 'no gridid'}})\n",
    "    elif(res['error'] == 'HTTP Error 403'): #{'error': '404 Not Found'}\n",
    "        print('403', i, round(coord[0], 5), round(coord[1], 5) )\n",
    "        if i == 5:\n",
    "            return({coord: False, 'res': \"request run for 5 times with 403 returns\" })\n",
    "        wait(5)\n",
    "        i += 1\n",
    "        return(is_in_US(coord, i))\n",
    "    return({coord: False, 'res':res})\n",
    "\n",
    "NW_Extreme = (49.384534, -124.761535)\n",
    "NE_Extreme = (49.384534, -66.948743)\n",
    "SE_Extreme = (24.506153, -66.948743)\n",
    "SW_Extreme = (24.506153, -124.761535)\n",
    "exterm = [NW_Extreme, NE_Extreme, SE_Extreme, SW_Extreme]\n",
    "#(lat, lon)\n",
    "\n",
    "lat_max = 49.384534\n",
    "lat_min = 24.506153\n",
    "lon_max = -124.761535\n",
    "lon_min = -66.948743\n",
    "\n",
    "delta_distance = 800#km\n",
    "delta = delta_distance/111\n",
    "#travelling from NW to East and South.\n",
    "lat = lat_max\n",
    "lon = lon_max\n",
    "grid = []\n",
    "while lat > lat_min:\n",
    "    lon = lon_max\n",
    "    while lon < lon_min:\n",
    "        grid.append((lat, lon))\n",
    "        lon = lon + delta\n",
    "    lat = lat - delta\n",
    "len(grid)"
   ]
  },
  {
   "cell_type": "code",
   "execution_count": 3,
   "metadata": {},
   "outputs": [
    {
     "data": {
      "text/html": [
       "<div style=\"width:100%;\"><div style=\"position:relative;width:100%;height:0;padding-bottom:60%;\"><span style=\"color:#565656\">Make this Notebook Trusted to load map: File -> Trust Notebook</span><iframe srcdoc=\"&lt;!DOCTYPE html&gt;\n",
       "&lt;html&gt;\n",
       "&lt;head&gt;\n",
       "    \n",
       "    &lt;meta http-equiv=&quot;content-type&quot; content=&quot;text/html; charset=UTF-8&quot; /&gt;\n",
       "    \n",
       "        &lt;script&gt;\n",
       "            L_NO_TOUCH = false;\n",
       "            L_DISABLE_3D = false;\n",
       "        &lt;/script&gt;\n",
       "    \n",
       "    &lt;style&gt;html, body {width: 100%;height: 100%;margin: 0;padding: 0;}&lt;/style&gt;\n",
       "    &lt;style&gt;#map {position:absolute;top:0;bottom:0;right:0;left:0;}&lt;/style&gt;\n",
       "    &lt;script src=&quot;https://cdn.jsdelivr.net/npm/leaflet@1.9.3/dist/leaflet.js&quot;&gt;&lt;/script&gt;\n",
       "    &lt;script src=&quot;https://code.jquery.com/jquery-3.7.1.min.js&quot;&gt;&lt;/script&gt;\n",
       "    &lt;script src=&quot;https://cdn.jsdelivr.net/npm/bootstrap@5.2.2/dist/js/bootstrap.bundle.min.js&quot;&gt;&lt;/script&gt;\n",
       "    &lt;script src=&quot;https://cdnjs.cloudflare.com/ajax/libs/Leaflet.awesome-markers/2.0.2/leaflet.awesome-markers.js&quot;&gt;&lt;/script&gt;\n",
       "    &lt;link rel=&quot;stylesheet&quot; href=&quot;https://cdn.jsdelivr.net/npm/leaflet@1.9.3/dist/leaflet.css&quot;/&gt;\n",
       "    &lt;link rel=&quot;stylesheet&quot; href=&quot;https://cdn.jsdelivr.net/npm/bootstrap@5.2.2/dist/css/bootstrap.min.css&quot;/&gt;\n",
       "    &lt;link rel=&quot;stylesheet&quot; href=&quot;https://netdna.bootstrapcdn.com/bootstrap/3.0.0/css/bootstrap-glyphicons.css&quot;/&gt;\n",
       "    &lt;link rel=&quot;stylesheet&quot; href=&quot;https://cdn.jsdelivr.net/npm/@fortawesome/fontawesome-free@6.2.0/css/all.min.css&quot;/&gt;\n",
       "    &lt;link rel=&quot;stylesheet&quot; href=&quot;https://cdnjs.cloudflare.com/ajax/libs/Leaflet.awesome-markers/2.0.2/leaflet.awesome-markers.css&quot;/&gt;\n",
       "    &lt;link rel=&quot;stylesheet&quot; href=&quot;https://cdn.jsdelivr.net/gh/python-visualization/folium/folium/templates/leaflet.awesome.rotate.min.css&quot;/&gt;\n",
       "    \n",
       "            &lt;meta name=&quot;viewport&quot; content=&quot;width=device-width,\n",
       "                initial-scale=1.0, maximum-scale=1.0, user-scalable=no&quot; /&gt;\n",
       "            &lt;style&gt;\n",
       "                #map_784a469986b963cc628a07a2e83f226f {\n",
       "                    position: relative;\n",
       "                    width: 100.0%;\n",
       "                    height: 100.0%;\n",
       "                    left: 0.0%;\n",
       "                    top: 0.0%;\n",
       "                }\n",
       "                .leaflet-container { font-size: 1rem; }\n",
       "            &lt;/style&gt;\n",
       "        \n",
       "&lt;/head&gt;\n",
       "&lt;body&gt;\n",
       "    \n",
       "    \n",
       "            &lt;div class=&quot;folium-map&quot; id=&quot;map_784a469986b963cc628a07a2e83f226f&quot; &gt;&lt;/div&gt;\n",
       "        \n",
       "&lt;/body&gt;\n",
       "&lt;script&gt;\n",
       "    \n",
       "    \n",
       "            var map_784a469986b963cc628a07a2e83f226f = L.map(\n",
       "                &quot;map_784a469986b963cc628a07a2e83f226f&quot;,\n",
       "                {\n",
       "                    center: [36.9453435, -95.855139],\n",
       "                    crs: L.CRS.EPSG3857,\n",
       "                    zoom: 4,\n",
       "                    zoomControl: true,\n",
       "                    preferCanvas: false,\n",
       "                }\n",
       "            );\n",
       "\n",
       "            \n",
       "\n",
       "        \n",
       "    \n",
       "            var tile_layer_ba0dd45ad1985edbef05e3e475fbef44 = L.tileLayer(\n",
       "                &quot;https://tile.openstreetmap.org/{z}/{x}/{y}.png&quot;,\n",
       "                {&quot;attribution&quot;: &quot;\\u0026copy; \\u003ca href=\\&quot;https://www.openstreetmap.org/copyright\\&quot;\\u003eOpenStreetMap\\u003c/a\\u003e contributors&quot;, &quot;detectRetina&quot;: false, &quot;maxNativeZoom&quot;: 19, &quot;maxZoom&quot;: 19, &quot;minZoom&quot;: 0, &quot;noWrap&quot;: false, &quot;opacity&quot;: 1, &quot;subdomains&quot;: &quot;abc&quot;, &quot;tms&quot;: false}\n",
       "            );\n",
       "        \n",
       "    \n",
       "            tile_layer_ba0dd45ad1985edbef05e3e475fbef44.addTo(map_784a469986b963cc628a07a2e83f226f);\n",
       "        \n",
       "    \n",
       "            var polygon_95a88b0e5ec0661330c5b4ff37b06afd = L.polygon(\n",
       "                [[49.384534, -124.761535], [49.384534, -66.948743], [24.506153, -66.948743], [24.506153, -124.761535]],\n",
       "                {&quot;bubblingMouseEvents&quot;: true, &quot;color&quot;: &quot;blue&quot;, &quot;dashArray&quot;: null, &quot;dashOffset&quot;: null, &quot;fill&quot;: true, &quot;fillColor&quot;: &quot;cyan&quot;, &quot;fillOpacity&quot;: 0.5, &quot;fillRule&quot;: &quot;evenodd&quot;, &quot;lineCap&quot;: &quot;round&quot;, &quot;lineJoin&quot;: &quot;round&quot;, &quot;noClip&quot;: false, &quot;opacity&quot;: 1.0, &quot;smoothFactor&quot;: 1.0, &quot;stroke&quot;: true, &quot;weight&quot;: 3}\n",
       "            ).addTo(map_784a469986b963cc628a07a2e83f226f);\n",
       "        \n",
       "&lt;/script&gt;\n",
       "&lt;/html&gt;\" style=\"position:absolute;width:100%;height:100%;left:0;top:0;border:none !important;\" allowfullscreen webkitallowfullscreen mozallowfullscreen></iframe></div></div>"
      ],
      "text/plain": [
       "<folium.folium.Map at 0x2b79cb7fe00>"
      ]
     },
     "execution_count": 3,
     "metadata": {},
     "output_type": "execute_result"
    }
   ],
   "source": [
    "polygon_to_map(exterm, 4)\n"
   ]
  },
  {
   "cell_type": "code",
   "execution_count": 4,
   "metadata": {},
   "outputs": [
    {
     "name": "stdout",
     "output_type": "stream",
     "text": [
      "0\n",
      "13.31611180305481\n"
     ]
    }
   ],
   "source": [
    "start = time.time()\n",
    "in_US = []\n",
    "results = []\n",
    "bucket_size = 32\n",
    "for bucket in range(len(grid)//bucket_size+1):\n",
    "    if bucket%bucket_size == 0:\n",
    "        print(bucket_size*bucket)\n",
    "    coordinates = grid[bucket_size*bucket:bucket_size*bucket + bucket_size]\n",
    "    with concurrent.futures.ThreadPoolExecutor(max_workers=64) as executor:\n",
    "        results += list(executor.map(is_in_US, coordinates))\n",
    "#    print(10*bucket, 10*bucket + 10)\n",
    "\n",
    "    \n",
    "'''\n",
    "for coords in grid:\n",
    "    if list(is_in_US(coords).values())[0]:\n",
    "        in_US.append(coords)\n",
    "with concurrent.futures.ThreadPoolExecutor(max_workers=32) as executor:\n",
    "    results = list(executor.map(is_in_US, grid))\n",
    "'''\n",
    "print(time.time()-start)"
   ]
  },
  {
   "cell_type": "code",
   "execution_count": 5,
   "metadata": {},
   "outputs": [],
   "source": [
    "import pickle \n",
    "f_name = './grid_results/grid_results_' + str(delta_distance)+'.pkl'\n",
    "with open(f_name, 'wb') as f:\n",
    "    pickle.dump(results, f)"
   ]
  },
  {
   "cell_type": "code",
   "execution_count": 6,
   "metadata": {},
   "outputs": [
    {
     "data": {
      "text/plain": [
       "[42.1773267927928,\n",
       " -124.761535,\n",
       " 'https://api.weather.gov/points/42.1773,-124.7615',\n",
       " 'OR']"
      ]
     },
     "execution_count": 6,
     "metadata": {},
     "output_type": "execute_result"
    }
   ],
   "source": [
    "final_results = []\n",
    "cols = ['lat', 'lon', 'url', 'state' ]\n",
    "for res in results:\n",
    "    if 'error' not in res['res']:\n",
    "        coords = list(res.keys())[0]\n",
    "        final_results.append([coords[0], coords[1], res['res']['id'], res['res']['properties']['relativeLocation']['properties']['state']])\n",
    "\n",
    "final_results[0]"
   ]
  },
  {
   "cell_type": "code",
   "execution_count": 7,
   "metadata": {},
   "outputs": [],
   "source": [
    "final_results = pd.DataFrame(final_results, columns=cols)\n",
    "csv_f_name = \"grid_results_\" + str(delta_distance) + \".csv\"\n",
    "final_results.to_csv(csv_f_name)"
   ]
  },
  {
   "cell_type": "code",
   "execution_count": 8,
   "metadata": {},
   "outputs": [
    {
     "data": {
      "text/plain": [
       "(15, 4)"
      ]
     },
     "execution_count": 8,
     "metadata": {},
     "output_type": "execute_result"
    }
   ],
   "source": [
    "final_results.shape"
   ]
  },
  {
   "cell_type": "code",
   "execution_count": 9,
   "metadata": {},
   "outputs": [
    {
     "name": "stdout",
     "output_type": "stream",
     "text": [
      "Logical CPUs (threads): 16\n",
      "Physical cores: 16\n"
     ]
    }
   ],
   "source": [
    "import os\n",
    "import multiprocessing\n",
    "\n",
    "# Total logical CPUs/cores available\n",
    "print(\"Logical CPUs (threads):\", os.cpu_count())\n",
    "\n",
    "# Physical cores (useful for CPU-bound tasks)\n",
    "print(\"Physical cores:\", multiprocessing.cpu_count())"
   ]
  },
  {
   "cell_type": "code",
   "execution_count": null,
   "metadata": {},
   "outputs": [],
   "source": []
  }
 ],
 "metadata": {
  "kernelspec": {
   "display_name": "Python 3",
   "language": "python",
   "name": "python3"
  },
  "language_info": {
   "codemirror_mode": {
    "name": "ipython",
    "version": 3
   },
   "file_extension": ".py",
   "mimetype": "text/x-python",
   "name": "python",
   "nbconvert_exporter": "python",
   "pygments_lexer": "ipython3",
   "version": "3.12.5"
  }
 },
 "nbformat": 4,
 "nbformat_minor": 2
}
